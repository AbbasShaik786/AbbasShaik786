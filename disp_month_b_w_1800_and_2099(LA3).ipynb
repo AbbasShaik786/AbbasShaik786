{
  "nbformat": 4,
  "nbformat_minor": 0,
  "metadata": {
    "colab": {
      "name": "disp month b/w 1800 and 2099(LA3).ipynb",
      "provenance": [],
      "authorship_tag": "ABX9TyOOUGZJAl3QBV9ErF0uJsDW",
      "include_colab_link": true
    },
    "kernelspec": {
      "name": "python3",
      "display_name": "Python 3"
    },
    "language_info": {
      "name": "python"
    }
  },
  "cells": [
    {
      "cell_type": "markdown",
      "metadata": {
        "id": "view-in-github",
        "colab_type": "text"
      },
      "source": [
        "<a href=\"https://colab.research.google.com/github/AbbasShaik786/AbbasShaik786/blob/main/disp_month_b_w_1800_and_2099(LA3).ipynb\" target=\"_parent\"><img src=\"https://colab.research.google.com/assets/colab-badge.svg\" alt=\"Open In Colab\"/></a>"
      ]
    },
    {
      "cell_type": "code",
      "execution_count": null,
      "metadata": {
        "id": "0CA06Oz_C-mq"
      },
      "outputs": [],
      "source": [
        "import calendar\n",
        "x=int(input(\"enter the year\"))\n",
        "m=int(input(\"enter the month\"))\n",
        "if x>=1800 and x<=2099:\n",
        "  print(calendar.month(x,m))\n",
        "else:\n",
        "  print(\"please enter the year between 1800 and 2099\")"
      ]
    }
  ]
}